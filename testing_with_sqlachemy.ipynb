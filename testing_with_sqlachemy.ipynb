{
 "cells": [
  {
   "cell_type": "code",
   "execution_count": 1,
   "metadata": {
    "pycharm": {
     "is_executing": false
    }
   },
   "outputs": [],
   "source": [
    "from datetime import datetime\n",
    "from sqlalchemy import (MetaData, Table, Column, Integer, Numeric, String,\n",
    "        DateTime, ForeignKey, Boolean, create_engine, insert)"
   ]
  },
  {
   "cell_type": "markdown",
   "metadata": {},
   "source": [
    "## Schema"
   ]
  },
  {
   "cell_type": "code",
   "execution_count": 6,
   "metadata": {
    "pycharm": {
     "is_executing": false
    }
   },
   "outputs": [],
   "source": [
    "class DataAccessLayer:\n",
    "        \n",
    "    def __init__(self,schema=None):        \n",
    "        self.connection = None\n",
    "        self.engine = None\n",
    "        self.conn_string = None\n",
    "        self.metadata = MetaData()\n",
    "        \n",
    "        self.cookies = Table('cookies', self.metadata,\n",
    "            Column('cookie_id', Integer()),\n",
    "            Column('cookie_name', String(50), index=True),\n",
    "            Column('cookie_recipe_url', String(255)),\n",
    "            Column('cookie_sku', String(55)),\n",
    "            Column('quantity', Integer()),\n",
    "            Column('unit_cost', Numeric(12, 2)),\n",
    "            schema=schema,\n",
    "        )\n",
    "    \n",
    "        self.users = Table('users', self.metadata,\n",
    "            Column('user_id', Integer()),\n",
    "            Column('customer_number', Integer(), autoincrement=True),\n",
    "            Column('username', String(15), nullable=False, unique=True),\n",
    "            Column('email_address', String(255), nullable=False),\n",
    "            Column('phone', String(20), nullable=False),\n",
    "            Column('password', String(25), nullable=False),\n",
    "            schema=schema,\n",
    "        )\n",
    "    \n",
    "        self.orders = Table('orders', self.metadata,\n",
    "            Column('order_id', String(20)),\n",
    "            Column('user_id' , Integer()),\n",
    "            Column('shipped', Boolean(), default=False),\n",
    "            schema=schema,                            \n",
    "        )\n",
    "    \n",
    "        self.line_items = Table('line_items', self.metadata,\n",
    "            Column('line_items_id', Integer()),\n",
    "            Column('order_id', String(20)),\n",
    "            Column('cookie_id', Integer()),\n",
    "            Column('quantity', Integer()),\n",
    "            Column('extended_cost', Numeric(12, 2)),\n",
    "            schema=schema,\n",
    "        )\n",
    "    \n",
    "    def db_init(self, conn_string):\n",
    "        self.engine = create_engine(conn_string or self.conn_string)\n",
    "        self.metadata.create_all(self.engine)\n",
    "        self.connection = self.engine.connect()"
   ]
  },
  {
   "cell_type": "markdown",
   "metadata": {},
   "source": [
    "## Data"
   ]
  },
  {
   "cell_type": "code",
   "execution_count": 3,
   "metadata": {
    "pycharm": {
     "is_executing": false
    }
   },
   "outputs": [],
   "source": [
    "data = {\n",
    "\n",
    "'cookies' : [\n",
    "    {        \n",
    "        'cookie_id' : 1,\n",
    "        'cookie_name': 'dark chocolate chip',\n",
    "        'cookie_recipe_url': 'http://some.aweso.me/cookie/recipe_dark.html',\n",
    "        'cookie_sku': 'CC02',\n",
    "        'quantity': '1',\n",
    "        'unit_cost' : '0.75'\n",
    "    },\n",
    "    {             \n",
    "        'cookie_id' : 2,\n",
    "        'cookie_name': 'peanut butter',\n",
    "        'cookie_recipe_url': 'http://some.aweso.me/cookie/peanut.html',\n",
    "        'cookie_sku': 'PB01',\n",
    "        'quantity': '24',\n",
    "        'unit_cost': '0.25'\n",
    "    },\n",
    "    {\n",
    "        'cookie_id' : 3,\n",
    "        'cookie_name': 'oatmeal raisin',\n",
    "        'cookie_recipe_url': 'http://some.okay.me/cookie/raisin.html',\n",
    "        'cookie_sku': 'EWW01',\n",
    "        'quantity': '100',\n",
    "        'unit_cost': '1.00'\n",
    "    }\n",
    "] ,   \n",
    "\n",
    "'users' : [\n",
    "    {\n",
    "        'user_id':1,\n",
    "        'username': 'cookiemon',\n",
    "        'email_address': \"mon@cookie.com\",\n",
    "        'phone': \"111-111-1111\",\n",
    "        'password': \"password\"\n",
    "    },\n",
    "    {\n",
    "        'user_id':2,\n",
    "        'username': \"cakeeater\",\n",
    "        'email_address': \"cakeeater@cake.com\",\n",
    "        'phone': \"222-222-2222\",\n",
    "        'password': \"password\"\n",
    "    },\n",
    "    {\n",
    "        'user_id':3,\n",
    "        'username': \"pieguy\",\n",
    "        'email_address': \"guy@pie.com\",\n",
    "        'phone': \"333-333-3333\",\n",
    "        'password': \"password\"\n",
    "    }\n",
    "],\n",
    "\n",
    "'orders' : [\n",
    "    {\n",
    "         'user_id':1, \n",
    "         'order_id':'wlk001'   \n",
    "    },\n",
    "    {\n",
    "        'user_id':2, \n",
    "        'order_id':'ol001'\n",
    "    }\n",
    "],\n",
    "\n",
    "'line_items' : [\n",
    "    {\n",
    "        'order_id': 'wlk001',\n",
    "        'cookie_id': 1,\n",
    "        'quantity': 2,\n",
    "        'extended_cost': 1.00\n",
    "    },\n",
    "    {\n",
    "        'order_id': 'wlk001',\n",
    "        'cookie_id': 3,\n",
    "        'quantity': 12,\n",
    "        'extended_cost': 3.00\n",
    "    },\n",
    "    {\n",
    "    'order_id': 'ol001',\n",
    "    'cookie_id': 1,\n",
    "    'quantity': 24,\n",
    "    'extended_cost': 12.00\n",
    "    },\n",
    "    {\n",
    "    'order_id': 'ol001',\n",
    "    'cookie_id': 2,\n",
    "    'quantity': 6,\n",
    "    'extended_cost': 6.00\n",
    "    }\n",
    "]\n",
    " \n",
    "}"
   ]
  },
  {
   "cell_type": "code",
   "execution_count": 4,
   "metadata": {
    "pycharm": {
     "is_executing": false
    }
   },
   "outputs": [],
   "source": [
    "def db_populate(dal,data):\n",
    "    for table,values in data.items():\n",
    "        if dal.metadata.tables[table].schema:\n",
    "            table = dal.metadata.tables[table].schema+'.'+table        \n",
    "        dal.connection.execute(dal.metadata.tables[table].insert(),values)"
   ]
  },
  {
   "cell_type": "markdown",
   "metadata": {},
   "source": [
    "## Application"
   ]
  },
  {
   "cell_type": "code",
   "execution_count": 5,
   "metadata": {
    "pycharm": {
     "is_executing": false
    }
   },
   "outputs": [],
   "source": [
    "from sqlalchemy.sql import select\n",
    "\n",
    "def get_orders_by_customer(dal,cust_name, shipped=None, details=False):\n",
    "    columns = [dal.orders.c.order_id,\n",
    "               dal.users.c.username,\n",
    "               dal.users.c.phone]\n",
    "    joins = dal.users.join(dal.orders,\n",
    "        onclause=dal.users.c.user_id==dal.orders.c.user_id)\n",
    "    if details:\n",
    "        columns.extend([dal.cookies.c.cookie_name,\n",
    "                        dal.line_items.c.quantity,\n",
    "                        dal.line_items.c.extended_cost])\n",
    "        joins = joins.join(dal.line_items,\n",
    "            onclause=dal.orders.c.order_id==dal.line_items.c.order_id)\n",
    "        joins = joins.join(dal.cookies,\n",
    "            onclause=dal.line_items.c.cookie_id==dal.cookies.c.cookie_id)\n",
    "\n",
    "    cust_orders = select(columns)\n",
    "    cust_orders = cust_orders.select_from(joins).where(\n",
    "        dal.users.c.username == cust_name)\n",
    "    if shipped is not None:\n",
    "        cust_orders = cust_orders.where(dal.orders.c.shipped == shipped)\n",
    "    result = dal.connection.execute(cust_orders).fetchall()\n",
    "    return result"
   ]
  },
  {
   "cell_type": "markdown",
   "metadata": {},
   "source": [
    "## Unit Tests"
   ]
  },
  {
   "cell_type": "code",
   "execution_count": 8,
   "metadata": {
    "pycharm": {
     "is_executing": false
    }
   },
   "outputs": [],
   "source": [
    "import unittest\n",
    "from decimal import Decimal\n",
    "\n",
    "class TestApp(unittest.TestCase):\n",
    "    cookie_orders = [(u'wlk001', u'cookiemon', u'111-111-1111')]\n",
    "    cookie_details = [\n",
    "        (u'wlk001', u'cookiemon', u'111-111-1111',\n",
    "            u'dark chocolate chip', 2, Decimal('1.00')),\n",
    "        (u'wlk001', u'cookiemon', u'111-111-1111',\n",
    "            u'oatmeal raisin', 12, Decimal('3.00'))]\n",
    "    dal = DataAccessLayer()\n",
    "    \n",
    "    @classmethod\n",
    "    def setUpClass(cls):      \n",
    "        cls.dal.db_init('sqlite:///:memory:')     \n",
    "        db_populate(cls.dal,data)\n",
    "       \n",
    "    @classmethod\n",
    "    def tearDownClass(cls):\n",
    "        cls.dal.metadata.drop_all(cls.dal.engine)\n",
    "        cls.dal.connection.close()\n",
    "        cls.dal.engine.dispose()\n",
    "\n",
    "    def test_orders_by_customer_blank(self):\n",
    "        results = get_orders_by_customer(self.dal,'')\n",
    "        self.assertEqual(results, [])\n",
    "\n",
    "    def test_orders_by_customer_blank_shipped(self):\n",
    "        results = get_orders_by_customer(self.dal,'', True)\n",
    "        self.assertEqual(results, [])\n",
    "\n",
    "    def test_orders_by_customer_blank_notshipped(self):\n",
    "        results = get_orders_by_customer(self.dal,'', False)\n",
    "        self.assertEqual(results, [])\n",
    "\n",
    "    def test_orders_by_customer_blank_details(self):\n",
    "        results = get_orders_by_customer(self.dal,'', details=True)\n",
    "        self.assertEqual(results, [])\n",
    "\n",
    "    def test_orders_by_customer_blank_shipped_details(self):\n",
    "        results = get_orders_by_customer(self.dal,'', True, True)\n",
    "        self.assertEqual(results, [])\n",
    "\n",
    "    def test_orders_by_customer_blank_notshipped_details(self):\n",
    "        results = get_orders_by_customer(self.dal,'', False, True)\n",
    "        self.assertEqual(results, [])        \n",
    "\n",
    "    def test_orders_by_customer_bad_cust(self):\n",
    "        results = get_orders_by_customer(self.dal,'bad name')\n",
    "        self.assertEqual(results, [])\n",
    "\n",
    "    def test_orders_by_customer_bad_cust_shipped(self):\n",
    "        results = get_orders_by_customer(self.dal,'bad name', True)\n",
    "        self.assertEqual(results, [])\n",
    "\n",
    "    def test_orders_by_customer_bad_cust_notshipped(self):\n",
    "        results = get_orders_by_customer(self.dal,'bad name', False)\n",
    "        self.assertEqual(results, [])\n",
    "\n",
    "    def test_orders_by_customer_bad_cust_details(self):\n",
    "        results = get_orders_by_customer(self.dal,'bad name', details=True)\n",
    "        self.assertEqual(results, [])\n",
    "\n",
    "    def test_orders_by_customer_bad_cust_shipped_details(self):\n",
    "        results = get_orders_by_customer(self.dal,'bad name', True, True)\n",
    "        self.assertEqual(results, [])\n",
    "\n",
    "    def test_orders_by_customer_bad_cust_notshipped_details(self):\n",
    "        results = get_orders_by_customer(self.dal,'bad name', False, True)\n",
    "        self.assertEqual(results, [])\n",
    "\n",
    "    def test_orders_by_customer(self):\n",
    "        results = get_orders_by_customer(self.dal,'cookiemon')\n",
    "        self.assertEqual(results, self.cookie_orders)\n",
    "\n",
    "    def test_orders_by_customer_shipped_only(self):\n",
    "        results = get_orders_by_customer(self.dal,'cookiemon', True)\n",
    "        self.assertEqual(results, [])\n",
    "\n",
    "    def test_orders_by_customer_unshipped_only(self):\n",
    "        results = get_orders_by_customer(self.dal,'cookiemon', False)\n",
    "        self.assertEqual(results, self.cookie_orders)\n",
    "\n",
    "    def test_orders_by_customer_with_details(self):\n",
    "        results = get_orders_by_customer(self.dal,'cookiemon', details=True)\n",
    "        self.assertEqual(results, self.cookie_details)\n",
    "\n",
    "    def test_orders_by_customer_shipped_only_with_details(self):\n",
    "        results = get_orders_by_customer(self.dal,'cookiemon', True, True)\n",
    "        self.assertEqual(results, [])\n",
    "\n",
    "    def test_orders_by_customer_unshipped_only_details(self):\n",
    "        results = get_orders_by_customer(self.dal,'cookiemon', False, True)\n",
    "        self.assertEqual(results, self.cookie_details)"
   ]
  },
  {
   "cell_type": "code",
   "execution_count": 9,
   "metadata": {
    "pycharm": {
     "is_executing": false
    }
   },
   "outputs": [
    {
     "name": "stderr",
     "output_type": "stream",
     "text": [
      "test_orders_by_customer (__main__.TestApp) ... ok\n",
      "test_orders_by_customer_bad_cust (__main__.TestApp) ... ok\n",
      "test_orders_by_customer_bad_cust_details (__main__.TestApp) ... c:\\users\\soumaya\\pycharmprojects\\sqlalchemy\\venv\\lib\\site-packages\\sqlalchemy\\sql\\sqltypes.py:665: SAWarning: Dialect sqlite+pysqlite does *not* support Decimal objects natively, and SQLAlchemy must convert from floating point - rounding errors and other issues may occur. Please consider storing Decimal numbers as strings or integers on this platform for lossless storage.\n",
      "  \"storage.\" % (dialect.name, dialect.driver)\n",
      "ok\n",
      "test_orders_by_customer_bad_cust_notshipped (__main__.TestApp) ... ok\n",
      "test_orders_by_customer_bad_cust_notshipped_details (__main__.TestApp) ... ok\n",
      "test_orders_by_customer_bad_cust_shipped (__main__.TestApp) ... ok\n",
      "test_orders_by_customer_bad_cust_shipped_details (__main__.TestApp) ... ok\n",
      "test_orders_by_customer_blank (__main__.TestApp) ... ok\n",
      "test_orders_by_customer_blank_details (__main__.TestApp) ... ok\n",
      "test_orders_by_customer_blank_notshipped (__main__.TestApp) ... ok\n",
      "test_orders_by_customer_blank_notshipped_details (__main__.TestApp) ... ok\n",
      "test_orders_by_customer_blank_shipped (__main__.TestApp) ... ok\n",
      "test_orders_by_customer_blank_shipped_details (__main__.TestApp) ... ok\n",
      "test_orders_by_customer_shipped_only (__main__.TestApp) ... ok\n",
      "test_orders_by_customer_shipped_only_with_details (__main__.TestApp) ... ok\n",
      "test_orders_by_customer_unshipped_only (__main__.TestApp) ... ok\n",
      "test_orders_by_customer_unshipped_only_details (__main__.TestApp) ... ok\n",
      "test_orders_by_customer_with_details (__main__.TestApp) ... ok\n",
      "\n",
      "----------------------------------------------------------------------\n",
      "Ran 18 tests in 0.127s\n",
      "\n",
      "OK\n"
     ]
    }
   ],
   "source": [
    "unittest.main(argv=[''], verbosity=2, exit=False);"
   ]
  }
 ],
 "metadata": {
  "kernelspec": {
   "display_name": "Python 3",
   "language": "python",
   "name": "python3"
  },
  "language_info": {
   "codemirror_mode": {
    "name": "ipython",
    "version": 3
   },
   "file_extension": ".py",
   "mimetype": "text/x-python",
   "name": "python",
   "nbconvert_exporter": "python",
   "pygments_lexer": "ipython3",
   "version": "3.7.2"
  },
  "pycharm": {
   "stem_cell": {
    "cell_type": "raw",
    "metadata": {
     "collapsed": false
    },
    "source": []
   }
  },
  "toc": {
   "base_numbering": 1,
   "nav_menu": {},
   "number_sections": true,
   "sideBar": true,
   "skip_h1_title": false,
   "title_cell": "Table of Contents",
   "title_sidebar": "Contents",
   "toc_cell": false,
   "toc_position": {},
   "toc_section_display": true,
   "toc_window_display": false
  }
 },
 "nbformat": 4,
 "nbformat_minor": 2
}
