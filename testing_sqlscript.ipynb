{
 "cells": [
  {
   "cell_type": "code",
   "execution_count": 1,
   "metadata": {
    "collapsed": true,
    "pycharm": {
     "is_executing": false
    }
   },
   "outputs": [],
   "source": [
    "from sqlalchemy import create_engine\n",
    "import pandas as pd"
   ]
  },
  {
   "cell_type": "markdown",
   "source": [
    "## Data"
   ],
   "metadata": {
    "collapsed": false
   }
  },
  {
   "cell_type": "code",
   "execution_count": 2,
   "outputs": [],
   "source": [
    "data = {\n",
    "\n",
    "'cookies' : [\n",
    "    {\n",
    "        'cookie_id' : 1,\n",
    "        'cookie_name': 'dark chocolate chip',\n",
    "        'cookie_recipe_url': 'http://some.aweso.me/cookie/recipe_dark.html',\n",
    "        'cookie_sku': 'CC02',\n",
    "        'quantity': '1',\n",
    "        'unit_cost' : '0.75'\n",
    "    },\n",
    "    {\n",
    "        'cookie_id' : 2,\n",
    "        'cookie_name': 'peanut butter',\n",
    "        'cookie_recipe_url': 'http://some.aweso.me/cookie/peanut.html',\n",
    "        'cookie_sku': 'PB01',\n",
    "        'quantity': '24',\n",
    "        'unit_cost': '0.25'\n",
    "    },\n",
    "    {\n",
    "        'cookie_id' : 3,\n",
    "        'cookie_name': 'oatmeal raisin',\n",
    "        'cookie_recipe_url': 'http://some.okay.me/cookie/raisin.html',\n",
    "        'cookie_sku': 'EWW01',\n",
    "        'quantity': '100',\n",
    "        'unit_cost': '1.00'\n",
    "    }\n",
    "] ,   \n",
    "\n",
    "'users' : [\n",
    "    {\n",
    "        'user_id':1,\n",
    "        'username': 'cookiemon',\n",
    "        'email_address': \"mon@cookie.com\",\n",
    "        'phone': \"111-111-1111\",\n",
    "        'password': \"password\"\n",
    "    },\n",
    "    {\n",
    "        'user_id':2,\n",
    "        'username': \"cakeeater\",\n",
    "        'email_address': \"cakeeater@cake.com\",\n",
    "        'phone': \"222-222-2222\",\n",
    "        'password': \"password\"\n",
    "    },\n",
    "    {\n",
    "        'user_id':3,\n",
    "        'username': \"pieguy\",\n",
    "        'email_address': \"guy@pie.com\",\n",
    "        'phone': \"333-333-3333\",\n",
    "        'password': \"password\"\n",
    "    }\n",
    "],\n",
    "\n",
    "'orders' : [\n",
    "    {\n",
    "         'user_id':1, \n",
    "         'order_id':'wlk001'   \n",
    "    },\n",
    "    {\n",
    "        'user_id':2, \n",
    "        'order_id':'ol001'\n",
    "    }\n",
    "],\n",
    "\n",
    "'line_items' : [\n",
    "    {\n",
    "        'order_id': 'wlk001',\n",
    "        'cookie_id': 1,\n",
    "        'quantity': 2,\n",
    "        'extended_cost': 1.00\n",
    "    },\n",
    "    {\n",
    "        'order_id': 'wlk001',\n",
    "        'cookie_id': 3,\n",
    "        'quantity': 12,\n",
    "        'extended_cost': 3.00\n",
    "    },\n",
    "    {\n",
    "        'order_id': 'ol001',\n",
    "        'cookie_id': 1,\n",
    "        'quantity': 24,\n",
    "        'extended_cost': 12.00\n",
    "    },\n",
    "    {\n",
    "        'order_id': 'ol001',\n",
    "        'cookie_id': 2,\n",
    "        'quantity': 6,\n",
    "        'extended_cost': 6.00\n",
    "    }\n",
    "]\n",
    " \n",
    "}"
   ],
   "metadata": {
    "collapsed": false,
    "pycharm": {
     "name": "#%%\n",
     "is_executing": false
    }
   }
  },
  {
   "cell_type": "code",
   "execution_count": 3,
   "outputs": [],
   "source": [
    "create_tables = \"\"\"\\\n",
    "DROP TABLE IF EXISTS ${schema}$cookies;\n",
    "CREATE TABLE ${schema}$cookies (\n",
    "\tcookie_id INTEGER,\n",
    "\tcookie_name VARCHAR(50),\n",
    "\tcookie_recipe_url VARCHAR(255),\n",
    "\tcookie_sku VARCHAR(55),\n",
    "\tquantity INTEGER,\n",
    "\tunit_cost NUMERIC(12, 2)\n",
    ");\n",
    "--\n",
    "DROP TABLE IF EXISTS ${schema}$users;\n",
    "CREATE TABLE ${schema}$users (\n",
    "\tuser_id INTEGER,\n",
    "\tcustomer_number INTEGER,\n",
    "\tusername VARCHAR(15) NOT NULL,\n",
    "\temail_address VARCHAR(255) NOT NULL,\n",
    "\tphone VARCHAR(20) NOT NULL,\n",
    "\tpassword VARCHAR(25) NOT NULL,\n",
    "\tUNIQUE (username)\n",
    ");\n",
    "\n",
    "DROP TABLE IF EXISTS ${schema}$line_items;\n",
    "CREATE TABLE ${schema}$line_items (\n",
    "\tline_items_id INTEGER,\n",
    "\torder_id VARCHAR(20),\n",
    "\tcookie_id INTEGER,\n",
    "\tquantity INTEGER,\n",
    "\textended_cost NUMERIC(12, 2)\n",
    ");\n",
    "\n",
    "DROP TABLE IF EXISTS ${schema}$orders;\n",
    "CREATE TABLE ${schema}$orders (\n",
    "\torder_id VARCHAR(20),\n",
    "\tuser_id INTEGER,\n",
    "\tshipped BOOLEAN\n",
    ");\n",
    "\"\"\""
   ],
   "metadata": {
    "collapsed": false,
    "pycharm": {
     "name": "#%%\n",
     "is_executing": false
    }
   }
  },
  {
   "cell_type": "code",
   "execution_count": 6,
   "outputs": [],
   "source": [
    "conn_string='sqlite:///:memory:'\n",
    "engine = create_engine(conn_string)\n",
    "connection = engine.connect()\n",
    "create_tables = create_tables.replace('${schema}$','')\n",
    "s = create_tables.split(';')\n",
    "for statement in s[:-1]:\n",
    "    connection.execute(statement)"
   ],
   "metadata": {
    "collapsed": false,
    "pycharm": {
     "name": "#%%\n",
     "is_executing": false
    }
   }
  },
  {
   "cell_type": "code",
   "execution_count": 7,
   "outputs": [
    {
     "data": {
      "text/plain": "[]"
     },
     "metadata": {},
     "output_type": "execute_result",
     "execution_count": 7
    }
   ],
   "source": [
    "engine.execute('select * from cookies').fetchall()"
   ],
   "metadata": {
    "collapsed": false,
    "pycharm": {
     "name": "#%%\n",
     "is_executing": false
    }
   }
  },
  {
   "cell_type": "code",
   "execution_count": 9,
   "outputs": [],
   "source": [
    "for table,values in data.items():\n",
    "    df = pd.DataFrame(values)\n",
    "    df.to_sql(table,connection,if_exists='append',index=False,schema=None)"
   ],
   "metadata": {
    "collapsed": false,
    "pycharm": {
     "name": "#%%\n",
     "is_executing": false
    }
   }
  },
  {
   "cell_type": "code",
   "execution_count": 10,
   "outputs": [
    {
     "data": {
      "text/plain": "[(1, 'dark chocolate chip', 'http://some.aweso.me/cookie/recipe_dark.html', 'CC02', 1, 0.75),\n (2, 'peanut butter', 'http://some.aweso.me/cookie/peanut.html', 'PB01', 24, 0.25),\n (3, 'oatmeal raisin', 'http://some.okay.me/cookie/raisin.html', 'EWW01', 100, 1)]"
     },
     "metadata": {},
     "output_type": "execute_result",
     "execution_count": 10
    }
   ],
   "source": [
    "engine.execute('select * from cookies').fetchall()\n"
   ],
   "metadata": {
    "collapsed": false,
    "pycharm": {
     "name": "#%%\n",
     "is_executing": false
    }
   }
  }
 ],
 "metadata": {
  "language_info": {
   "codemirror_mode": {
    "name": "ipython",
    "version": 2
   },
   "file_extension": ".py",
   "mimetype": "text/x-python",
   "name": "python",
   "nbconvert_exporter": "python",
   "pygments_lexer": "ipython2",
   "version": "2.7.6"
  },
  "kernelspec": {
   "name": "python3",
   "language": "python",
   "display_name": "Python 3"
  },
  "pycharm": {
   "stem_cell": {
    "cell_type": "raw",
    "source": [],
    "metadata": {
     "collapsed": false
    }
   }
  }
 },
 "nbformat": 4,
 "nbformat_minor": 0
}