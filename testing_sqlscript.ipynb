{
 "cells": [
  {
   "cell_type": "code",
   "execution_count": 1,
   "metadata": {
    "collapsed": true,
    "pycharm": {
     "is_executing": false
    }
   },
   "outputs": [],
   "source": [
    "from sqlalchemy import create_engine\n",
    "import pandas as pd"
   ]
  },
  {
   "cell_type": "markdown",
   "source": [
    "## Data"
   ],
   "metadata": {
    "collapsed": false
   }
  },
  {
   "cell_type": "code",
   "execution_count": 2,
   "outputs": [],
   "source": [
    "test_data = {\n",
    "    'cookies':[\n",
    "        ['cookie_id', 'cookie_name', 'cookie_recipe_url', 'cookie_sku', 'quantity', 'unit_cost'],\n",
    "        [1,'dark chocolate chip','http://some.aweso.me/cookie/recipe_dark.html','CC02',1,0.75],\n",
    "        [2,'peanut butter','http://some.aweso.me/cookie/peanut.html','PB01', 24,0.25],\n",
    "        [3,'oatmeal raisin','http://some.okay.me/cookie/raisin.html','EWW01',100,1.00]\n",
    "    ],\n",
    "    'users':[\n",
    "        ['email_address', 'password', 'phone', 'user_id', 'username'],\n",
    "        ['mon@cookie.com', 'password', '111-111-1111', 1, 'cookiemon'],\n",
    "        ['cakeeater@cake.com', 'password', '222-222-2222', 2, 'cakeeater'],\n",
    "        ['guy@pie.com', 'password', '333-333-3333', 3, 'pieguy']\n",
    "    ],\n",
    "    'line_items' : [\n",
    "        ['cookie_id','extended_cost','order_id','quantity'],\n",
    "        [1,1.0,'wlk001',2],\n",
    "        [3,3.0,'wlk001',12],\n",
    "        [1,12.0,'ol001',24],\n",
    "        [2,6.0,'ol001',6]\n",
    "    ],\n",
    "    'orders' : [\n",
    "        ['order_id','user_id','shipped'],\n",
    "        ['wlk001', 1,True], \n",
    "        ['ol001', 2,False]\n",
    "    ]\n",
    "}"
   ],
   "metadata": {
    "collapsed": false,
    "pycharm": {
     "name": "#%%\n",
     "is_executing": false
    }
   }
  },
  {
   "cell_type": "code",
   "execution_count": 3,
   "outputs": [],
   "source": [
    "tables = \"\"\"\\\n",
    "DROP TABLE IF EXISTS cookies;\n",
    "CREATE TABLE cookies (\n",
    "\tcookie_id INTEGER,\n",
    "\tcookie_name VARCHAR(50),\n",
    "\tcookie_recipe_url VARCHAR(255),\n",
    "\tcookie_sku VARCHAR(55),\n",
    "\tquantity INTEGER,\n",
    "\tunit_cost NUMERIC(12, 2)\n",
    ");\n",
    "\n",
    "DROP TABLE IF EXISTS users;\n",
    "CREATE TABLE users (\n",
    "\tuser_id INTEGER,\n",
    "\tcustomer_number INTEGER,\n",
    "\tusername VARCHAR(15) NOT NULL,\n",
    "\temail_address VARCHAR(255) NOT NULL,\n",
    "\tphone VARCHAR(20) NOT NULL,\n",
    "\tpassword VARCHAR(25) NOT NULL,\n",
    "\tUNIQUE (username)\n",
    ");\n",
    "\n",
    "DROP TABLE IF EXISTS line_items;\n",
    "CREATE TABLE line_items (\n",
    "\tline_items_id INTEGER,\n",
    "\torder_id VARCHAR(20),\n",
    "\tcookie_id INTEGER,\n",
    "\tquantity INTEGER,\n",
    "\textended_cost NUMERIC(12, 2)\n",
    ");\n",
    "\n",
    "DROP TABLE IF EXISTS orders;\n",
    "CREATE TABLE orders (\n",
    "\torder_id VARCHAR(20),\n",
    "\tuser_id INTEGER,\n",
    "\tshipped BOOLEAN\n",
    ");\n",
    "\"\"\""
   ],
   "metadata": {
    "collapsed": false,
    "pycharm": {
     "name": "#%%\n",
     "is_executing": false
    }
   }
  },
  {
   "cell_type": "code",
   "execution_count": 4,
   "outputs": [],
   "source": [
    "get_orders_by_customer_SQL = \"\"\"\\\n",
    "WITH get_orders AS (\n",
    "    SELECT\n",
    "        t1.order_id,\n",
    "        t2.username,\n",
    "        t2.phone\n",
    "    FROM orders as t1\n",
    "    INNER JOIN users as t2\n",
    "    ON t1.user_id = t2.user_id\n",
    "    WHERE t2.username = '@{username}'  \n",
    "    AND t1.shipped in (@{shipped})\n",
    "    ),\n",
    "    \n",
    "get_ordersdetails AS (\n",
    "    SELECT \n",
    "        t1.*,\n",
    "        t3.cookie_name,\n",
    "        t2.quantity,\n",
    "        t2.extended_cost \n",
    "    FROM get_orders as t1\n",
    "    INNER JOIN line_items as t2\n",
    "    on t1.order_id = t2.order_id\n",
    "    INNER JOIN cookies as t3\n",
    "    on t2.cookie_id = t3.cookie_id\n",
    "    )\n",
    "    \n",
    "SELECT * \n",
    "FROM get_orders@{details};\n",
    "\"\"\" "
   ],
   "metadata": {
    "collapsed": false,
    "pycharm": {
     "name": "#%%\n",
     "is_executing": false
    }
   }
  },
  {
   "cell_type": "code",
   "execution_count": 5,
   "outputs": [],
   "source": [
    "def get_orders_by_customer(username,shipped='False,True',details=''):\n",
    "    sql = get_orders_by_customer_SQL.replace('@{username}',username)\n",
    "    sql = sql.replace('@{shipped}',shipped)\n",
    "    sql = sql.replace('@{details}',details)\n",
    "    return sql   "
   ],
   "metadata": {
    "collapsed": false,
    "pycharm": {
     "name": "#%%\n",
     "is_executing": false
    }
   }
  },
  {
   "cell_type": "markdown",
   "source": [
    "## Unit Tests"
   ],
   "metadata": {
    "collapsed": false,
    "pycharm": {
     "name": "#%% md\n",
     "is_executing": false
    }
   }
  },
  {
   "cell_type": "code",
   "execution_count": 6,
   "outputs": [],
   "source": [
    "import unittest\n",
    "from decimal import Decimal\n",
    "\n",
    "class TestApp(unittest.TestCase):\n",
    "    \n",
    "    cookie_orders = [(u'wlk001', u'cookiemon', u'111-111-1111')]\n",
    "    cookie_details = [\n",
    "        (u'wlk001', u'cookiemon', u'111-111-1111',\n",
    "            u'dark chocolate chip', 2, Decimal('1.00')),\n",
    "        (u'wlk001', u'cookiemon', u'111-111-1111',\n",
    "            u'oatmeal raisin', 12, Decimal('3.00'))]\n",
    "    \n",
    "    @classmethod\n",
    "    def setUpClass(cls):      \n",
    "        # Connect to the database and create the schema within a transaction\n",
    "        cls.conn_string='sqlite:///:memory:'\n",
    "        cls.engine = create_engine(cls.conn_string)\n",
    "        cls.connection = cls.engine.connect()\n",
    "        cls.transaction = cls.connection.begin()\n",
    "        #Create the tables\n",
    "        for statement in tables.split(';')[:-1]:\n",
    "            cls.connection.execute(statement)\n",
    "        #Populate the tables\n",
    "        for table,values in test_data.items():\n",
    "            df = pd.DataFrame(values[1:],columns=values[0])\n",
    "            df.to_sql(table,cls.connection,\n",
    "                      if_exists='replace',index=False,schema=None)\n",
    "       \n",
    "    @classmethod\n",
    "    def tearDownClass(cls):\n",
    "        # Roll back the top level transaction and disconnect from the database\n",
    "        cls.transaction.rollback()\n",
    "        cls.connection.close()\n",
    "        cls.engine.dispose()\n",
    "        \n",
    "    def test_orders_by_customer_blank(self):\n",
    "        results = self.connection.execute(get_orders_by_customer('')).fetchall()\n",
    "        self.assertEqual(results, [])"
   ],
   "metadata": {
    "collapsed": false,
    "pycharm": {
     "name": "#%%\n",
     "is_executing": false
    }
   }
  },
  {
   "cell_type": "code",
   "execution_count": 7,
   "outputs": [
    {
     "name": "stderr",
     "text": [
      "test_orders_by_customer_blank (__main__.TestApp) ... ",
      "ok\n\n----------------------------------------------------------------------\nRan 1 test in 0.053s\n\nOK\n"
     ],
     "output_type": "stream"
    }
   ],
   "source": [
    "unittest.main(argv=[''], verbosity=2, exit=False);\n"
   ],
   "metadata": {
    "collapsed": false,
    "pycharm": {
     "name": "#%%\n",
     "is_executing": false
    }
   }
  }
 ],
 "metadata": {
  "language_info": {
   "codemirror_mode": {
    "name": "ipython",
    "version": 2
   },
   "file_extension": ".py",
   "mimetype": "text/x-python",
   "name": "python",
   "nbconvert_exporter": "python",
   "pygments_lexer": "ipython2",
   "version": "2.7.6"
  },
  "kernelspec": {
   "name": "python3",
   "language": "python",
   "display_name": "Python 3"
  },
  "pycharm": {
   "stem_cell": {
    "cell_type": "raw",
    "source": [],
    "metadata": {
     "collapsed": false
    }
   }
  }
 },
 "nbformat": 4,
 "nbformat_minor": 0
}